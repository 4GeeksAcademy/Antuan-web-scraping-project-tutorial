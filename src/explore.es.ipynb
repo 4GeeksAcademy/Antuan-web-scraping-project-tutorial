{
    "cells": [
        {
            "cell_type": "markdown",
            "metadata": {},
            "source": [
                "# Explora aquí\n",
                "\n",
                "Se recomienda utilizar este cuaderno con fines de exploración."
            ]
        },
        {
            "cell_type": "code",
            "execution_count": null,
            "metadata": {},
            "outputs": [
                {
                    "name": "stdout",
                    "output_type": "stream",
                    "text": [
                        "200\n",
                        "2\n",
                        "      Variable Name     Role        Type  Description  Units Missing Values\n",
                        "0     fixed_acidity  Feature  Continuous          NaN    NaN             no\n",
                        "1  volatile_acidity  Feature  Continuous          NaN    NaN             no\n",
                        "2       citric_acid  Feature  Continuous          NaN    NaN             no\n",
                        "3    residual_sugar  Feature  Continuous          NaN    NaN             no\n",
                        "4         chlorides  Feature  Continuous          NaN    NaN             no\n",
                        "Tamaño original del DataFrame antes de borar los valures nulos (10, 6)\n",
                        "Tamaño del DataFrame despues de borrar los valores nulos (0, 6)\n",
                        "<bound method NDFrame.head of Empty DataFrame\n",
                        "Columns: [Variable Name, Role, Type, Description, Units, Missing Values]\n",
                        "Index: []>\n"
                    ]
                },
                {
                    "name": "stderr",
                    "output_type": "stream",
                    "text": [
                        "C:\\Users\\ANTONIO\\AppData\\Local\\Temp\\ipykernel_13444\\1616444065.py:34: FutureWarning: Passing literal html to 'read_html' is deprecated and will be removed in a future version. To read from a literal string, wrap it in a 'StringIO' object.\n",
                        "  df = pd.read_html(str(tablas))[0]  # convierte la tabla en un DataFrame\n"
                    ]
                }
            ],
            "source": [
                "import os\n",
                "from bs4 import BeautifulSoup\n",
                "import requests\n",
                "import time\n",
                "import sqlite3\n",
                "import matplotlib.pyplot as plt\n",
                "import seaborn as sns\n",
                "import pandas as pd\n",
                "\n",
                "descarga_wiki = \"https://archive.ics.uci.edu/dataset/186/wine+quality\" # Esta es la url que quiero descargar \n",
                "\n",
                "\n",
                "\n",
                "# Utilizo el paqute request para que me descargue el fichero de la url \n",
                "\n",
                "fichero = requests.get(descarga_wiki, time.sleep(10))  # Le pongo un tiempo de espera de 15 segundos para que no me bloquee la ip por muchas peticiones seguidas\n",
                "\n",
                "#Estoy comprobando que el fichero se descargo correctamente\n",
                "\n",
                "print(fichero.status_code) # Si el codigo es 200 es que se ha descargado correctamente\n",
                "\n",
                "#Paso 3 Buscar la informacion que quiero utilizando BeautifulSoup pero primero tranformamos el html en texto plano para que lo pueda leer BeautifulSoup\n",
                "\n",
                "soup = BeautifulSoup(fichero.content, 'html.parser')\n",
                "\n",
                "#Paso 4 Buscar la tabla que contiene los datos que quiero\n",
                "# soup esta todo el html \n",
                "datos_tabla = soup.find(\"table\")\n",
                "\n",
                "tablas = soup.find_all(\"table\")\n",
                "print(len(tablas))\n",
                "  \n",
                "\n",
                "df = pd.read_html(str(tablas))[0]  # convierte la tabla en un DataFrame\n",
                "print(df.head())\n",
                "\n",
                "print(\"Tamaño original del DataFrame antes de borar los valures nulos\", df.shape)\n",
                "\n",
                "#Elimina las filas  con los valores nulos \n",
                "eliminar_nulos = df.dropna()\n",
                "\n",
                "print(\"Tamaño del DataFrame despues de borrar los valores nulos\", eliminar_nulos.shape)\n",
                "\n",
                "\n",
                "\n"
            ]
        }
    ],
    "metadata": {
        "kernelspec": {
            "display_name": "Python 3",
            "language": "python",
            "name": "python3"
        },
        "language_info": {
            "codemirror_mode": {
                "name": "ipython",
                "version": 3
            },
            "file_extension": ".py",
            "mimetype": "text/x-python",
            "name": "python",
            "nbconvert_exporter": "python",
            "pygments_lexer": "ipython3",
            "version": "3.13.2"
        },
        "orig_nbformat": 4
    },
    "nbformat": 4,
    "nbformat_minor": 2
}
